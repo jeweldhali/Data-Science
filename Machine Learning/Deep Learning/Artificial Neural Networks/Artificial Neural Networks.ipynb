{
 "cells": [
  {
   "cell_type": "code",
   "execution_count": 1,
   "metadata": {},
   "outputs": [],
   "source": [
    "import pandas as pd\n",
    "import numpy as np\n",
    "import matplotlib.pyplot as plt"
   ]
  },
  {
   "cell_type": "code",
   "execution_count": 2,
   "metadata": {},
   "outputs": [
    {
     "data": {
      "text/html": [
       "<div>\n",
       "<style scoped>\n",
       "    .dataframe tbody tr th:only-of-type {\n",
       "        vertical-align: middle;\n",
       "    }\n",
       "\n",
       "    .dataframe tbody tr th {\n",
       "        vertical-align: top;\n",
       "    }\n",
       "\n",
       "    .dataframe thead th {\n",
       "        text-align: right;\n",
       "    }\n",
       "</style>\n",
       "<table border=\"1\" class=\"dataframe\">\n",
       "  <thead>\n",
       "    <tr style=\"text-align: right;\">\n",
       "      <th></th>\n",
       "      <th>RowNumber</th>\n",
       "      <th>CustomerId</th>\n",
       "      <th>Surname</th>\n",
       "      <th>CreditScore</th>\n",
       "      <th>Geography</th>\n",
       "      <th>Gender</th>\n",
       "      <th>Age</th>\n",
       "      <th>Tenure</th>\n",
       "      <th>Balance</th>\n",
       "      <th>NumOfProducts</th>\n",
       "      <th>HasCrCard</th>\n",
       "      <th>IsActiveMember</th>\n",
       "      <th>EstimatedSalary</th>\n",
       "      <th>Exited</th>\n",
       "    </tr>\n",
       "  </thead>\n",
       "  <tbody>\n",
       "    <tr>\n",
       "      <th>0</th>\n",
       "      <td>1</td>\n",
       "      <td>15634602</td>\n",
       "      <td>Hargrave</td>\n",
       "      <td>619</td>\n",
       "      <td>France</td>\n",
       "      <td>Female</td>\n",
       "      <td>42</td>\n",
       "      <td>2</td>\n",
       "      <td>0.00</td>\n",
       "      <td>1</td>\n",
       "      <td>1</td>\n",
       "      <td>1</td>\n",
       "      <td>101348.88</td>\n",
       "      <td>1</td>\n",
       "    </tr>\n",
       "    <tr>\n",
       "      <th>1</th>\n",
       "      <td>2</td>\n",
       "      <td>15647311</td>\n",
       "      <td>Hill</td>\n",
       "      <td>608</td>\n",
       "      <td>Spain</td>\n",
       "      <td>Female</td>\n",
       "      <td>41</td>\n",
       "      <td>1</td>\n",
       "      <td>83807.86</td>\n",
       "      <td>1</td>\n",
       "      <td>0</td>\n",
       "      <td>1</td>\n",
       "      <td>112542.58</td>\n",
       "      <td>0</td>\n",
       "    </tr>\n",
       "    <tr>\n",
       "      <th>2</th>\n",
       "      <td>3</td>\n",
       "      <td>15619304</td>\n",
       "      <td>Onio</td>\n",
       "      <td>502</td>\n",
       "      <td>France</td>\n",
       "      <td>Female</td>\n",
       "      <td>42</td>\n",
       "      <td>8</td>\n",
       "      <td>159660.80</td>\n",
       "      <td>3</td>\n",
       "      <td>1</td>\n",
       "      <td>0</td>\n",
       "      <td>113931.57</td>\n",
       "      <td>1</td>\n",
       "    </tr>\n",
       "    <tr>\n",
       "      <th>3</th>\n",
       "      <td>4</td>\n",
       "      <td>15701354</td>\n",
       "      <td>Boni</td>\n",
       "      <td>699</td>\n",
       "      <td>France</td>\n",
       "      <td>Female</td>\n",
       "      <td>39</td>\n",
       "      <td>1</td>\n",
       "      <td>0.00</td>\n",
       "      <td>2</td>\n",
       "      <td>0</td>\n",
       "      <td>0</td>\n",
       "      <td>93826.63</td>\n",
       "      <td>0</td>\n",
       "    </tr>\n",
       "    <tr>\n",
       "      <th>4</th>\n",
       "      <td>5</td>\n",
       "      <td>15737888</td>\n",
       "      <td>Mitchell</td>\n",
       "      <td>850</td>\n",
       "      <td>Spain</td>\n",
       "      <td>Female</td>\n",
       "      <td>43</td>\n",
       "      <td>2</td>\n",
       "      <td>125510.82</td>\n",
       "      <td>1</td>\n",
       "      <td>1</td>\n",
       "      <td>1</td>\n",
       "      <td>79084.10</td>\n",
       "      <td>0</td>\n",
       "    </tr>\n",
       "  </tbody>\n",
       "</table>\n",
       "</div>"
      ],
      "text/plain": [
       "   RowNumber  CustomerId   Surname  CreditScore Geography  Gender  Age  \\\n",
       "0          1    15634602  Hargrave          619    France  Female   42   \n",
       "1          2    15647311      Hill          608     Spain  Female   41   \n",
       "2          3    15619304      Onio          502    France  Female   42   \n",
       "3          4    15701354      Boni          699    France  Female   39   \n",
       "4          5    15737888  Mitchell          850     Spain  Female   43   \n",
       "\n",
       "   Tenure    Balance  NumOfProducts  HasCrCard  IsActiveMember  \\\n",
       "0       2       0.00              1          1               1   \n",
       "1       1   83807.86              1          0               1   \n",
       "2       8  159660.80              3          1               0   \n",
       "3       1       0.00              2          0               0   \n",
       "4       2  125510.82              1          1               1   \n",
       "\n",
       "   EstimatedSalary  Exited  \n",
       "0        101348.88       1  \n",
       "1        112542.58       0  \n",
       "2        113931.57       1  \n",
       "3         93826.63       0  \n",
       "4         79084.10       0  "
      ]
     },
     "execution_count": 2,
     "metadata": {},
     "output_type": "execute_result"
    }
   ],
   "source": [
    "df = pd.read_csv('Churn_Modelling.csv')\n",
    "df.head()"
   ]
  },
  {
   "cell_type": "code",
   "execution_count": 3,
   "metadata": {},
   "outputs": [],
   "source": [
    "x = df.iloc[:,3:10].values\n",
    "y = df.iloc[:,10].values"
   ]
  },
  {
   "cell_type": "code",
   "execution_count": 4,
   "metadata": {},
   "outputs": [
    {
     "data": {
      "text/plain": [
       "array([[619, 'France', 'Female', ..., 2, 0.0, 1],\n",
       "       [608, 'Spain', 'Female', ..., 1, 83807.86, 1],\n",
       "       [502, 'France', 'Female', ..., 8, 159660.8, 3],\n",
       "       ...,\n",
       "       [709, 'France', 'Female', ..., 7, 0.0, 1],\n",
       "       [772, 'Germany', 'Male', ..., 3, 75075.31, 2],\n",
       "       [792, 'France', 'Female', ..., 4, 130142.79, 1]], dtype=object)"
      ]
     },
     "execution_count": 4,
     "metadata": {},
     "output_type": "execute_result"
    }
   ],
   "source": [
    "x"
   ]
  },
  {
   "cell_type": "markdown",
   "metadata": {},
   "source": [
    "## Encoding Categorical Variable"
   ]
  },
  {
   "cell_type": "code",
   "execution_count": 5,
   "metadata": {},
   "outputs": [],
   "source": [
    "from sklearn.preprocessing import LabelEncoder\n",
    "label_x_1 = LabelEncoder()\n",
    "x[:,1] = label_x_1.fit_transform(x[:,1])"
   ]
  },
  {
   "cell_type": "code",
   "execution_count": 6,
   "metadata": {},
   "outputs": [
    {
     "data": {
      "text/plain": [
       "array([[619, 0, 'Female', ..., 2, 0.0, 1],\n",
       "       [608, 2, 'Female', ..., 1, 83807.86, 1],\n",
       "       [502, 0, 'Female', ..., 8, 159660.8, 3],\n",
       "       ...,\n",
       "       [709, 0, 'Female', ..., 7, 0.0, 1],\n",
       "       [772, 1, 'Male', ..., 3, 75075.31, 2],\n",
       "       [792, 0, 'Female', ..., 4, 130142.79, 1]], dtype=object)"
      ]
     },
     "execution_count": 6,
     "metadata": {},
     "output_type": "execute_result"
    }
   ],
   "source": [
    "x"
   ]
  },
  {
   "cell_type": "code",
   "execution_count": 7,
   "metadata": {},
   "outputs": [],
   "source": [
    "from sklearn.preprocessing import LabelEncoder\n",
    "label_x_2 = LabelEncoder()\n",
    "x[:,2] = label_x_2.fit_transform(x[:,2])"
   ]
  },
  {
   "cell_type": "code",
   "execution_count": 8,
   "metadata": {},
   "outputs": [
    {
     "data": {
      "text/plain": [
       "array([[619, 0, 0, ..., 2, 0.0, 1],\n",
       "       [608, 2, 0, ..., 1, 83807.86, 1],\n",
       "       [502, 0, 0, ..., 8, 159660.8, 3],\n",
       "       ...,\n",
       "       [709, 0, 0, ..., 7, 0.0, 1],\n",
       "       [772, 1, 1, ..., 3, 75075.31, 2],\n",
       "       [792, 0, 0, ..., 4, 130142.79, 1]], dtype=object)"
      ]
     },
     "execution_count": 8,
     "metadata": {},
     "output_type": "execute_result"
    }
   ],
   "source": [
    "x"
   ]
  },
  {
   "cell_type": "code",
   "execution_count": 9,
   "metadata": {},
   "outputs": [
    {
     "name": "stderr",
     "output_type": "stream",
     "text": [
      "C:\\ProgramData\\Anaconda3\\lib\\site-packages\\sklearn\\preprocessing\\_encoders.py:415: FutureWarning: The handling of integer data will change in version 0.22. Currently, the categories are determined based on the range [0, max(values)], while in the future they will be determined based on the unique values.\n",
      "If you want the future behaviour and silence this warning, you can specify \"categories='auto'\".\n",
      "In case you used a LabelEncoder before this OneHotEncoder to convert the categories to integers, then you can now use the OneHotEncoder directly.\n",
      "  warnings.warn(msg, FutureWarning)\n",
      "C:\\ProgramData\\Anaconda3\\lib\\site-packages\\sklearn\\preprocessing\\_encoders.py:451: DeprecationWarning: The 'categorical_features' keyword is deprecated in version 0.20 and will be removed in 0.22. You can use the ColumnTransformer instead.\n",
      "  \"use the ColumnTransformer instead.\", DeprecationWarning)\n"
     ]
    }
   ],
   "source": [
    "from sklearn.preprocessing import OneHotEncoder\n",
    "onehotencoder = OneHotEncoder(categorical_features=[1])\n",
    "x = onehotencoder.fit_transform(x).toarray()"
   ]
  },
  {
   "cell_type": "code",
   "execution_count": 10,
   "metadata": {},
   "outputs": [],
   "source": [
    "x = x[:,1:]"
   ]
  },
  {
   "cell_type": "code",
   "execution_count": 11,
   "metadata": {},
   "outputs": [
    {
     "data": {
      "text/plain": [
       "array([[0.0000000e+00, 0.0000000e+00, 6.1900000e+02, ..., 2.0000000e+00,\n",
       "        0.0000000e+00, 1.0000000e+00],\n",
       "       [0.0000000e+00, 1.0000000e+00, 6.0800000e+02, ..., 1.0000000e+00,\n",
       "        8.3807860e+04, 1.0000000e+00],\n",
       "       [0.0000000e+00, 0.0000000e+00, 5.0200000e+02, ..., 8.0000000e+00,\n",
       "        1.5966080e+05, 3.0000000e+00],\n",
       "       ...,\n",
       "       [0.0000000e+00, 0.0000000e+00, 7.0900000e+02, ..., 7.0000000e+00,\n",
       "        0.0000000e+00, 1.0000000e+00],\n",
       "       [1.0000000e+00, 0.0000000e+00, 7.7200000e+02, ..., 3.0000000e+00,\n",
       "        7.5075310e+04, 2.0000000e+00],\n",
       "       [0.0000000e+00, 0.0000000e+00, 7.9200000e+02, ..., 4.0000000e+00,\n",
       "        1.3014279e+05, 1.0000000e+00]])"
      ]
     },
     "execution_count": 11,
     "metadata": {},
     "output_type": "execute_result"
    }
   ],
   "source": [
    "x"
   ]
  },
  {
   "cell_type": "code",
   "execution_count": 12,
   "metadata": {},
   "outputs": [],
   "source": [
    "#onehotencoder = OneHotEncoder(categories='auto')\n",
    "#x = onehotencoder.fit_transform(x).toarray()"
   ]
  },
  {
   "cell_type": "code",
   "execution_count": 13,
   "metadata": {},
   "outputs": [],
   "source": [
    "#x = x[:,1:]"
   ]
  },
  {
   "cell_type": "code",
   "execution_count": 14,
   "metadata": {},
   "outputs": [],
   "source": [
    "#x"
   ]
  },
  {
   "cell_type": "code",
   "execution_count": 15,
   "metadata": {},
   "outputs": [],
   "source": [
    "from sklearn.model_selection import train_test_split\n",
    "x_train,x_test,y_train,y_test = train_test_split(x,y, test_size=0.2, random_state=0)"
   ]
  },
  {
   "cell_type": "code",
   "execution_count": 16,
   "metadata": {},
   "outputs": [],
   "source": [
    "from sklearn.preprocessing import StandardScaler\n",
    "sc_x = StandardScaler()\n",
    "x_train = sc_x.fit_transform(x_train)\n",
    "x_test = sc_x.transform(x_test)"
   ]
  },
  {
   "cell_type": "markdown",
   "metadata": {},
   "source": [
    "## ANN Part"
   ]
  },
  {
   "cell_type": "code",
   "execution_count": 17,
   "metadata": {},
   "outputs": [
    {
     "name": "stderr",
     "output_type": "stream",
     "text": [
      "Using TensorFlow backend.\n"
     ]
    }
   ],
   "source": [
    "import keras\n",
    "from keras.models import Sequential\n",
    "from keras.layers import Dense"
   ]
  },
  {
   "cell_type": "code",
   "execution_count": 18,
   "metadata": {},
   "outputs": [],
   "source": [
    "model = Sequential()"
   ]
  },
  {
   "cell_type": "markdown",
   "metadata": {},
   "source": [
    "## First Input Layer"
   ]
  },
  {
   "cell_type": "code",
   "execution_count": 19,
   "metadata": {},
   "outputs": [],
   "source": [
    "model.add(Dense(activation='relu',input_dim=8, units=6,kernel_initializer='uniform'))"
   ]
  },
  {
   "cell_type": "markdown",
   "metadata": {},
   "source": [
    "## Second Input Layer"
   ]
  },
  {
   "cell_type": "code",
   "execution_count": 20,
   "metadata": {},
   "outputs": [],
   "source": [
    "model.add(Dense(activation='relu', units=6,kernel_initializer='uniform'))"
   ]
  },
  {
   "cell_type": "markdown",
   "metadata": {},
   "source": [
    "## Output Layer"
   ]
  },
  {
   "cell_type": "code",
   "execution_count": 21,
   "metadata": {},
   "outputs": [],
   "source": [
    "model.add(Dense(activation='sigmoid', units=1, kernel_initializer='uniform'))"
   ]
  },
  {
   "cell_type": "markdown",
   "metadata": {},
   "source": [
    "## Compiling The ANN"
   ]
  },
  {
   "cell_type": "code",
   "execution_count": 22,
   "metadata": {},
   "outputs": [
    {
     "name": "stdout",
     "output_type": "stream",
     "text": [
      "WARNING:tensorflow:From C:\\ProgramData\\Anaconda3\\lib\\site-packages\\tensorflow\\python\\ops\\nn_impl.py:180: add_dispatch_support.<locals>.wrapper (from tensorflow.python.ops.array_ops) is deprecated and will be removed in a future version.\n",
      "Instructions for updating:\n",
      "Use tf.where in 2.0, which has the same broadcast rule as np.where\n"
     ]
    }
   ],
   "source": [
    "model.compile(optimizer='adam', loss='binary_crossentropy',metrics=['accuracy'])"
   ]
  },
  {
   "cell_type": "code",
   "execution_count": 28,
   "metadata": {},
   "outputs": [
    {
     "name": "stdout",
     "output_type": "stream",
     "text": [
      "Epoch 1/100\n",
      "1270/8000 [===>..........................] - ETA: 0s - loss: 0.5975 - accuracy: 0.7157"
     ]
    },
    {
     "name": "stderr",
     "output_type": "stream",
     "text": [
      "C:\\ProgramData\\Anaconda3\\lib\\site-packages\\ipykernel_launcher.py:1: UserWarning: The `nb_epoch` argument in `fit` has been renamed `epochs`.\n",
      "  \"\"\"Entry point for launching an IPython kernel.\n"
     ]
    },
    {
     "name": "stdout",
     "output_type": "stream",
     "text": [
      "8000/8000 [==============================] - 1s 108us/step - loss: 0.6015 - accuracy: 0.7078\n",
      "Epoch 2/100\n",
      "8000/8000 [==============================] - 1s 107us/step - loss: 0.6016 - accuracy: 0.7078\n",
      "Epoch 3/100\n",
      "8000/8000 [==============================] - 1s 107us/step - loss: 0.6016 - accuracy: 0.7078\n",
      "Epoch 4/100\n",
      "8000/8000 [==============================] - 1s 108us/step - loss: 0.6015 - accuracy: 0.7078\n",
      "Epoch 5/100\n",
      "8000/8000 [==============================] - 1s 110us/step - loss: 0.6016 - accuracy: 0.7078\n",
      "Epoch 6/100\n",
      "8000/8000 [==============================] - 1s 132us/step - loss: 0.6013 - accuracy: 0.7078\n",
      "Epoch 7/100\n",
      "8000/8000 [==============================] - 1s 121us/step - loss: 0.6017 - accuracy: 0.7078\n",
      "Epoch 8/100\n",
      "8000/8000 [==============================] - 1s 108us/step - loss: 0.6017 - accuracy: 0.7078\n",
      "Epoch 9/100\n",
      "8000/8000 [==============================] - 1s 106us/step - loss: 0.6016 - accuracy: 0.7078\n",
      "Epoch 10/100\n",
      "8000/8000 [==============================] - 1s 107us/step - loss: 0.6016 - accuracy: 0.7078\n",
      "Epoch 11/100\n",
      "8000/8000 [==============================] - 1s 106us/step - loss: 0.6016 - accuracy: 0.7078\n",
      "Epoch 12/100\n",
      "8000/8000 [==============================] - 1s 107us/step - loss: 0.6015 - accuracy: 0.7078\n",
      "Epoch 13/100\n",
      "8000/8000 [==============================] - 1s 112us/step - loss: 0.6012 - accuracy: 0.7078\n",
      "Epoch 14/100\n",
      "8000/8000 [==============================] - 1s 116us/step - loss: 0.6014 - accuracy: 0.7078\n",
      "Epoch 15/100\n",
      "8000/8000 [==============================] - 1s 115us/step - loss: 0.6014 - accuracy: 0.7078\n",
      "Epoch 16/100\n",
      "8000/8000 [==============================] - 1s 107us/step - loss: 0.6016 - accuracy: 0.7078\n",
      "Epoch 17/100\n",
      "8000/8000 [==============================] - 1s 116us/step - loss: 0.6016 - accuracy: 0.7078\n",
      "Epoch 18/100\n",
      "8000/8000 [==============================] - 1s 106us/step - loss: 0.6017 - accuracy: 0.7078\n",
      "Epoch 19/100\n",
      "8000/8000 [==============================] - 1s 106us/step - loss: 0.6014 - accuracy: 0.7078\n",
      "Epoch 20/100\n",
      "8000/8000 [==============================] - 1s 107us/step - loss: 0.6013 - accuracy: 0.7078\n",
      "Epoch 21/100\n",
      "8000/8000 [==============================] - 1s 107us/step - loss: 0.6015 - accuracy: 0.7078\n",
      "Epoch 22/100\n",
      "8000/8000 [==============================] - 1s 106us/step - loss: 0.6014 - accuracy: 0.7078\n",
      "Epoch 23/100\n",
      "8000/8000 [==============================] - 1s 107us/step - loss: 0.6016 - accuracy: 0.7078\n",
      "Epoch 24/100\n",
      "8000/8000 [==============================] - 1s 109us/step - loss: 0.6015 - accuracy: 0.7078\n",
      "Epoch 25/100\n",
      "8000/8000 [==============================] - 1s 107us/step - loss: 0.6014 - accuracy: 0.7078\n",
      "Epoch 26/100\n",
      "8000/8000 [==============================] - 1s 108us/step - loss: 0.6012 - accuracy: 0.7078\n",
      "Epoch 27/100\n",
      "8000/8000 [==============================] - 1s 107us/step - loss: 0.6018 - accuracy: 0.7078\n",
      "Epoch 28/100\n",
      "8000/8000 [==============================] - 1s 106us/step - loss: 0.6015 - accuracy: 0.7078\n",
      "Epoch 29/100\n",
      "8000/8000 [==============================] - 1s 109us/step - loss: 0.6015 - accuracy: 0.7078\n",
      "Epoch 30/100\n",
      "8000/8000 [==============================] - 1s 107us/step - loss: 0.6015 - accuracy: 0.7078\n",
      "Epoch 31/100\n",
      "8000/8000 [==============================] - 1s 108us/step - loss: 0.6013 - accuracy: 0.7078\n",
      "Epoch 32/100\n",
      "8000/8000 [==============================] - 1s 107us/step - loss: 0.6016 - accuracy: 0.7078\n",
      "Epoch 33/100\n",
      "8000/8000 [==============================] - 1s 106us/step - loss: 0.6014 - accuracy: 0.7078\n",
      "Epoch 34/100\n",
      "8000/8000 [==============================] - 1s 108us/step - loss: 0.6015 - accuracy: 0.7078\n",
      "Epoch 35/100\n",
      "8000/8000 [==============================] - 1s 107us/step - loss: 0.6015 - accuracy: 0.7078\n",
      "Epoch 36/100\n",
      "8000/8000 [==============================] - 1s 112us/step - loss: 0.6016 - accuracy: 0.7078\n",
      "Epoch 37/100\n",
      "8000/8000 [==============================] - 1s 117us/step - loss: 0.6014 - accuracy: 0.7078\n",
      "Epoch 38/100\n",
      "8000/8000 [==============================] - 1s 116us/step - loss: 0.6013 - accuracy: 0.7078\n",
      "Epoch 39/100\n",
      "8000/8000 [==============================] - 1s 106us/step - loss: 0.6014 - accuracy: 0.7078\n",
      "Epoch 40/100\n",
      "8000/8000 [==============================] - 1s 107us/step - loss: 0.6015 - accuracy: 0.7078\n",
      "Epoch 41/100\n",
      "8000/8000 [==============================] - 1s 106us/step - loss: 0.6012 - accuracy: 0.7078\n",
      "Epoch 42/100\n",
      "8000/8000 [==============================] - 1s 107us/step - loss: 0.6015 - accuracy: 0.7078\n",
      "Epoch 43/100\n",
      "8000/8000 [==============================] - 1s 106us/step - loss: 0.6015 - accuracy: 0.7078\n",
      "Epoch 44/100\n",
      "8000/8000 [==============================] - 1s 107us/step - loss: 0.6013 - accuracy: 0.7078\n",
      "Epoch 45/100\n",
      "8000/8000 [==============================] - 1s 107us/step - loss: 0.6016 - accuracy: 0.7078\n",
      "Epoch 46/100\n",
      "8000/8000 [==============================] - 1s 107us/step - loss: 0.6015 - accuracy: 0.7078\n",
      "Epoch 47/100\n",
      "8000/8000 [==============================] - 1s 107us/step - loss: 0.6014 - accuracy: 0.7078\n",
      "Epoch 48/100\n",
      "8000/8000 [==============================] - 1s 115us/step - loss: 0.6016 - accuracy: 0.7078\n",
      "Epoch 49/100\n",
      "8000/8000 [==============================] - 1s 107us/step - loss: 0.6014 - accuracy: 0.7078\n",
      "Epoch 50/100\n",
      "8000/8000 [==============================] - 1s 107us/step - loss: 0.6016 - accuracy: 0.7078\n",
      "Epoch 51/100\n",
      "8000/8000 [==============================] - 1s 107us/step - loss: 0.6015 - accuracy: 0.7078\n",
      "Epoch 52/100\n",
      "8000/8000 [==============================] - 1s 107us/step - loss: 0.6015 - accuracy: 0.7078\n",
      "Epoch 53/100\n",
      "8000/8000 [==============================] - 1s 106us/step - loss: 0.6014 - accuracy: 0.7078\n",
      "Epoch 54/100\n",
      "8000/8000 [==============================] - 1s 107us/step - loss: 0.6014 - accuracy: 0.7078\n",
      "Epoch 55/100\n",
      "8000/8000 [==============================] - 1s 107us/step - loss: 0.6015 - accuracy: 0.7078\n",
      "Epoch 56/100\n",
      "8000/8000 [==============================] - 1s 107us/step - loss: 0.6015 - accuracy: 0.7078\n",
      "Epoch 57/100\n",
      "8000/8000 [==============================] - 1s 109us/step - loss: 0.6013 - accuracy: 0.7078\n",
      "Epoch 58/100\n",
      "8000/8000 [==============================] - 1s 107us/step - loss: 0.6017 - accuracy: 0.7078\n",
      "Epoch 59/100\n",
      "8000/8000 [==============================] - 1s 107us/step - loss: 0.6013 - accuracy: 0.7078\n",
      "Epoch 60/100\n",
      "8000/8000 [==============================] - 1s 106us/step - loss: 0.6016 - accuracy: 0.7078\n",
      "Epoch 61/100\n",
      "8000/8000 [==============================] - 1s 106us/step - loss: 0.6015 - accuracy: 0.7078\n",
      "Epoch 62/100\n",
      "8000/8000 [==============================] - 1s 107us/step - loss: 0.6014 - accuracy: 0.7078\n",
      "Epoch 63/100\n",
      "8000/8000 [==============================] - 1s 107us/step - loss: 0.6014 - accuracy: 0.7078\n",
      "Epoch 64/100\n",
      "8000/8000 [==============================] - 1s 107us/step - loss: 0.6013 - accuracy: 0.7078\n",
      "Epoch 65/100\n",
      "8000/8000 [==============================] - 1s 107us/step - loss: 0.6015 - accuracy: 0.7078\n",
      "Epoch 66/100\n",
      "8000/8000 [==============================] - 1s 108us/step - loss: 0.6016 - accuracy: 0.7078\n",
      "Epoch 67/100\n",
      "8000/8000 [==============================] - 1s 106us/step - loss: 0.6012 - accuracy: 0.7078\n",
      "Epoch 68/100\n",
      "8000/8000 [==============================] - 1s 107us/step - loss: 0.6012 - accuracy: 0.7078\n",
      "Epoch 69/100\n",
      "8000/8000 [==============================] - 1s 107us/step - loss: 0.6014 - accuracy: 0.7078\n",
      "Epoch 70/100\n",
      "8000/8000 [==============================] - 1s 107us/step - loss: 0.6014 - accuracy: 0.7078\n",
      "Epoch 71/100\n",
      "8000/8000 [==============================] - 1s 108us/step - loss: 0.6012 - accuracy: 0.7078\n",
      "Epoch 72/100\n",
      "8000/8000 [==============================] - 1s 107us/step - loss: 0.6016 - accuracy: 0.7078\n",
      "Epoch 73/100\n",
      "8000/8000 [==============================] - 1s 107us/step - loss: 0.6014 - accuracy: 0.7078\n",
      "Epoch 74/100\n",
      "8000/8000 [==============================] - 1s 108us/step - loss: 0.6015 - accuracy: 0.7078\n",
      "Epoch 75/100\n",
      "8000/8000 [==============================] - 1s 107us/step - loss: 0.6011 - accuracy: 0.7078\n",
      "Epoch 76/100\n",
      "8000/8000 [==============================] - 1s 107us/step - loss: 0.6013 - accuracy: 0.7078\n",
      "Epoch 77/100\n",
      "8000/8000 [==============================] - 1s 107us/step - loss: 0.6015 - accuracy: 0.7078\n",
      "Epoch 78/100\n"
     ]
    },
    {
     "name": "stdout",
     "output_type": "stream",
     "text": [
      "8000/8000 [==============================] - 1s 105us/step - loss: 0.6016 - accuracy: 0.7078\n",
      "Epoch 79/100\n",
      "8000/8000 [==============================] - 1s 106us/step - loss: 0.6014 - accuracy: 0.7078\n",
      "Epoch 80/100\n",
      "8000/8000 [==============================] - 1s 106us/step - loss: 0.6015 - accuracy: 0.7078\n",
      "Epoch 81/100\n",
      "8000/8000 [==============================] - 1s 104us/step - loss: 0.6014 - accuracy: 0.7078\n",
      "Epoch 82/100\n",
      "8000/8000 [==============================] - 1s 103us/step - loss: 0.6014 - accuracy: 0.7078\n",
      "Epoch 83/100\n",
      "8000/8000 [==============================] - 1s 103us/step - loss: 0.6014 - accuracy: 0.7078\n",
      "Epoch 84/100\n",
      "8000/8000 [==============================] - 1s 104us/step - loss: 0.6013 - accuracy: 0.7078\n",
      "Epoch 85/100\n",
      "8000/8000 [==============================] - 1s 106us/step - loss: 0.6013 - accuracy: 0.7078\n",
      "Epoch 86/100\n",
      "8000/8000 [==============================] - 1s 108us/step - loss: 0.6015 - accuracy: 0.7078\n",
      "Epoch 87/100\n",
      "8000/8000 [==============================] - 1s 110us/step - loss: 0.6013 - accuracy: 0.7078\n",
      "Epoch 88/100\n",
      "8000/8000 [==============================] - 1s 107us/step - loss: 0.6014 - accuracy: 0.7078\n",
      "Epoch 89/100\n",
      "8000/8000 [==============================] - 1s 104us/step - loss: 0.6014 - accuracy: 0.7078\n",
      "Epoch 90/100\n",
      "8000/8000 [==============================] - 1s 111us/step - loss: 0.6013 - accuracy: 0.7078\n",
      "Epoch 91/100\n",
      "8000/8000 [==============================] - 1s 113us/step - loss: 0.6012 - accuracy: 0.7078\n",
      "Epoch 92/100\n",
      "8000/8000 [==============================] - 1s 105us/step - loss: 0.6014 - accuracy: 0.7078\n",
      "Epoch 93/100\n",
      "8000/8000 [==============================] - 1s 120us/step - loss: 0.6014 - accuracy: 0.7078\n",
      "Epoch 94/100\n",
      "8000/8000 [==============================] - 1s 105us/step - loss: 0.6013 - accuracy: 0.7078\n",
      "Epoch 95/100\n",
      "8000/8000 [==============================] - 1s 105us/step - loss: 0.6014 - accuracy: 0.7078\n",
      "Epoch 96/100\n",
      "8000/8000 [==============================] - 1s 108us/step - loss: 0.6015 - accuracy: 0.7078\n",
      "Epoch 97/100\n",
      "8000/8000 [==============================] - 1s 113us/step - loss: 0.6014 - accuracy: 0.7078\n",
      "Epoch 98/100\n",
      "8000/8000 [==============================] - 1s 122us/step - loss: 0.6013 - accuracy: 0.7078\n",
      "Epoch 99/100\n",
      "8000/8000 [==============================] - 1s 118us/step - loss: 0.6014 - accuracy: 0.7078\n",
      "Epoch 100/100\n",
      "8000/8000 [==============================] - 1s 113us/step - loss: 0.6014 - accuracy: 0.7078\n"
     ]
    },
    {
     "data": {
      "text/plain": [
       "<keras.callbacks.callbacks.History at 0x1731efac9b0>"
      ]
     },
     "execution_count": 28,
     "metadata": {},
     "output_type": "execute_result"
    }
   ],
   "source": [
    "model.fit(x_train,y_train, batch_size=10, nb_epoch=100)"
   ]
  },
  {
   "cell_type": "code",
   "execution_count": 29,
   "metadata": {},
   "outputs": [],
   "source": [
    "y_pred = model.predict(x_test)"
   ]
  },
  {
   "cell_type": "code",
   "execution_count": 30,
   "metadata": {},
   "outputs": [
    {
     "data": {
      "text/plain": [
       "array([[0.72550845],\n",
       "       [0.68669784],\n",
       "       [0.6769818 ],\n",
       "       ...,\n",
       "       [0.6934931 ],\n",
       "       [0.73239267],\n",
       "       [0.7729397 ]], dtype=float32)"
      ]
     },
     "execution_count": 30,
     "metadata": {},
     "output_type": "execute_result"
    }
   ],
   "source": [
    "y_pred"
   ]
  },
  {
   "cell_type": "code",
   "execution_count": 31,
   "metadata": {},
   "outputs": [
    {
     "data": {
      "text/plain": [
       "array([[ True],\n",
       "       [ True],\n",
       "       [ True],\n",
       "       ...,\n",
       "       [ True],\n",
       "       [ True],\n",
       "       [ True]])"
      ]
     },
     "execution_count": 31,
     "metadata": {},
     "output_type": "execute_result"
    }
   ],
   "source": [
    "y_pred = (y_pred > .5)\n",
    "y_pred"
   ]
  },
  {
   "cell_type": "code",
   "execution_count": 32,
   "metadata": {},
   "outputs": [
    {
     "data": {
      "text/plain": [
       "array([[   0,    0],\n",
       "       [ 607, 1393]], dtype=int64)"
      ]
     },
     "execution_count": 32,
     "metadata": {},
     "output_type": "execute_result"
    }
   ],
   "source": [
    "from sklearn.metrics import confusion_matrix\n",
    "cm = confusion_matrix(y_pred,y_test)\n",
    "cm"
   ]
  },
  {
   "cell_type": "code",
   "execution_count": 34,
   "metadata": {},
   "outputs": [
    {
     "name": "stdout",
     "output_type": "stream",
     "text": [
      "Collecting tensorflow\n",
      "  Downloading https://files.pythonhosted.org/packages/34/d5/ce8c17971067c0184c9045112b755be5461d5ce5253ef65a367e1298d7c5/tensorflow-2.1.0-cp37-cp37m-win_amd64.whl (355.8MB)\n",
      "Note: you may need to restart the kernel to use updated packages.\n"
     ]
    },
    {
     "name": "stderr",
     "output_type": "stream",
     "text": [
      "ERROR: Could not install packages due to an EnvironmentError: [WinError 32] The process cannot access the file because it is being used by another process: 'C:\\\\Users\\\\Jewel\\\\AppData\\\\Local\\\\Temp\\\\pip-unpack-1q0a87e6\\\\tensorflow-2.1.0-cp37-cp37m-win_amd64.whl'\n",
      "Consider using the `--user` option or check the permissions.\n",
      "\n"
     ]
    }
   ],
   "source": [
    "pip install --upgrade tensorflow"
   ]
  },
  {
   "cell_type": "code",
   "execution_count": null,
   "metadata": {},
   "outputs": [],
   "source": []
  }
 ],
 "metadata": {
  "kernelspec": {
   "display_name": "Python 3",
   "language": "python",
   "name": "python3"
  },
  "language_info": {
   "codemirror_mode": {
    "name": "ipython",
    "version": 3
   },
   "file_extension": ".py",
   "mimetype": "text/x-python",
   "name": "python",
   "nbconvert_exporter": "python",
   "pygments_lexer": "ipython3",
   "version": "3.7.3"
  }
 },
 "nbformat": 4,
 "nbformat_minor": 2
}
